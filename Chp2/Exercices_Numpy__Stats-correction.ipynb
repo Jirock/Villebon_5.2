{
 "cells": [
  {
   "cell_type": "code",
   "execution_count": 58,
   "metadata": {},
   "outputs": [],
   "source": [
    "import numpy as np\n",
    "import matplotlib.pyplot as plt\n",
    "%matplotlib inline"
   ]
  },
  {
   "cell_type": "markdown",
   "metadata": {},
   "source": [
    "Dans le notebook suivant, nous allons illustrer de façon empirique le [théorème central limite](https://fr.wikipedia.org/wiki/Th%C3%A9or%C3%A8me_central_limite). Ce théorème jour un rôle fondamental en statistique, et nous y ferons appel pour justifier la forme des termes d'erreurs lors de la régression. Il permet de contrôler le comportement d'une somme de variables aléatoires indépendantes et identiquement distribuées lorsque le nombre de tirage est suffisant.\n",
    "\n",
    "Quelque soit la distribution initiale à partir de laquelle on échantillonne, la moyenne de l'échantillon sera distribuée suivant une loi normale, avec un écart type qui se réduit en $1/\\sqrt N $.\n",
    "\n",
    "Si on définit la variable centrée et réduite:\n",
    "\\begin{equation} z = \\frac{x - \\mu}{\\sigma}\\end{equation} \n",
    "Alors, pour N suffisamment grand \n",
    "$z \\rightarrow N(0,1)$"
   ]
  },
  {
   "cell_type": "markdown",
   "metadata": {},
   "source": [
    "Nous allons générer une liste de nombre dont nous connaissons parfaitement les propriétés telles que la moyenne ou l'écart-type. "
   ]
  },
  {
   "cell_type": "code",
   "execution_count": 59,
   "metadata": {},
   "outputs": [
    {
     "name": "stdout",
     "output_type": "stream",
     "text": [
      "shape x :  (10000,)\n",
      "10 first elements of x : \n",
      " [129.98604758 134.75299507 116.6528275  154.91539728 178.90325729\n",
      " 164.44199429 164.92734863 152.49359329 115.15358998 173.96541462]\n"
     ]
    }
   ],
   "source": [
    "x = np.random.uniform(100,200, size=10000)\n",
    "print('shape x : ', x.shape)\n",
    "print('10 first elements of x : \\n', x[:10])"
   ]
  },
  {
   "cell_type": "code",
   "execution_count": 60,
   "metadata": {},
   "outputs": [
    {
     "name": "stdout",
     "output_type": "stream",
     "text": [
      "true mean is 149.97287719078236\n"
     ]
    }
   ],
   "source": [
    "print(\"true mean is\", x.mean())"
   ]
  },
  {
   "cell_type": "markdown",
   "metadata": {},
   "source": [
    "Si on prend 1, puis 2, puis k éléments, alors la moyenne calculée se baladera autour de 49.5, en suivant une loi normale caractérisée par l'écart-type $1/\\sqrt k$ "
   ]
  },
  {
   "cell_type": "markdown",
   "metadata": {},
   "source": [
    "Nous allons échantillonner plusieurs fois une liste de taille k < 100, et allons voir comment se comportent la moyenne. Compléter la fonction ci-dessous qui prend en entrée un vecteur et qui retourne un vecteur de taille inférieure ou égale."
   ]
  },
  {
   "cell_type": "code",
   "execution_count": 61,
   "metadata": {},
   "outputs": [],
   "source": [
    "def sample_index(x, size):\n",
    "    \"\"\"sample random elements and return array index with length defined by size\n",
    "    \n",
    "        Args:\n",
    "            x (numpy.array) : vector to sample from\n",
    "        Returns:\n",
    "            numpy.array with length defined by size\n",
    "    \"\"\"\n",
    "    if size > len(x): size = len(x)\n",
    "    index = np.arange(x.size)\n",
    "    np.random.shuffle(index)\n",
    "    return index[:size]"
   ]
  },
  {
   "cell_type": "markdown",
   "metadata": {},
   "source": [
    "Nous allons prendre plusieurs échantillons de taille << 100 et calculer la moyenne."
   ]
  },
  {
   "cell_type": "code",
   "execution_count": 62,
   "metadata": {},
   "outputs": [
    {
     "name": "stdout",
     "output_type": "stream",
     "text": [
      "160.16577652791196\n",
      "136.80233557515365\n",
      "146.65559275548085\n",
      "151.85538317557067\n",
      "138.248159898213\n",
      "167.63259192461763\n",
      "150.67993211159722\n",
      "145.17325206244385\n",
      "144.03875005565592\n",
      "145.45609979904373\n"
     ]
    }
   ],
   "source": [
    "for i in range(10):\n",
    "    print(x[sample_index(x, 10)].mean())"
   ]
  },
  {
   "cell_type": "markdown",
   "metadata": {},
   "source": [
    "Construire une liste qui sauvegarde plusieurs valeurs de la moyenne, et construire l'histogramme de ces valeurs. "
   ]
  },
  {
   "cell_type": "code",
   "execution_count": 63,
   "metadata": {},
   "outputs": [
    {
     "data": {
      "text/plain": [
       "array([2358, 7170, 5875, 1518, 6574,  372, 3801, 3248, 4736, 8499, 6878,\n",
       "       6705, 6320, 8412, 5163, 4782, 8856, 4046, 7257, 5760])"
      ]
     },
     "execution_count": 63,
     "metadata": {},
     "output_type": "execute_result"
    }
   ],
   "source": [
    "sample_index(x, 20)"
   ]
  },
  {
   "cell_type": "code",
   "execution_count": 64,
   "metadata": {},
   "outputs": [
    {
     "name": "stdout",
     "output_type": "stream",
     "text": [
      "[150.61436958 161.00866934 148.5746147  138.42267494 160.97109537\n",
      " 151.89933293 152.60825168 151.75542043 154.18171678 148.47274146]\n"
     ]
    }
   ],
   "source": [
    "N_iterations = 500\n",
    "sampled = np.array([x[sample_index(x, 20)].mean() for i in range(N_iterations)])\n",
    "print(sampled[:10])"
   ]
  },
  {
   "cell_type": "code",
   "execution_count": 65,
   "metadata": {},
   "outputs": [
    {
     "data": {
      "image/png": "[encoded data removed]",
      "text/plain": [
       "<matplotlib.figure.Figure at 0x1f42f364ac8>"
      ]
     },
     "metadata": {},
     "output_type": "display_data"
    }
   ],
   "source": [
    "plt.hist(sampled, bins = 50)\n",
    "plt.show()"
   ]
  },
  {
   "cell_type": "markdown",
   "metadata": {},
   "source": [
    "Construire la variable réduire $z$"
   ]
  },
  {
   "cell_type": "code",
   "execution_count": 66,
   "metadata": {},
   "outputs": [],
   "source": [
    "z = (sampled-sampled.mean())/sampled.std()"
   ]
  },
  {
   "cell_type": "markdown",
   "metadata": {},
   "source": [
    "Construire la densité gaussienne de moyenne 0 et d'écart-type 1 entre -4 et 4, la représenter grpahiquement et superposer l'histogramme de $z$"
   ]
  },
  {
   "cell_type": "code",
   "execution_count": 67,
   "metadata": {},
   "outputs": [],
   "source": [
    "import scipy.stats as stats\n",
    "nx = np.linspace(-4, 4, 100)\n",
    "normal = stats.norm.pdf(nx)"
   ]
  },
  {
   "cell_type": "code",
   "execution_count": 68,
   "metadata": {},
   "outputs": [
    {
     "data": {
      "image/png": "[encoded data removed]",
      "text/plain": [
       "<matplotlib.figure.Figure at 0x1f42f40c358>"
      ]
     },
     "metadata": {},
     "output_type": "display_data"
    }
   ],
   "source": [
    "plt.hist(z, bins=100, normed=True)\n",
    "plt.plot(nx, normal)\n",
    "plt.show()"
   ]
  },
  {
   "cell_type": "code",
   "execution_count": null,
   "metadata": {},
   "outputs": [],
   "source": []
  }
 ],
 "metadata": {
  "kernelspec": {
   "display_name": "Python 3",
   "language": "python",
   "name": "python3"
  },
  "language_info": {
   "codemirror_mode": {
    "name": "ipython",
    "version": 3
   },
   "file_extension": ".py",
   "mimetype": "text/x-python",
   "name": "python",
   "nbconvert_exporter": "python",
   "pygments_lexer": "ipython3",
   "version": "3.5.4"
  }
 },
 "nbformat": 4,
 "nbformat_minor": 2
}
